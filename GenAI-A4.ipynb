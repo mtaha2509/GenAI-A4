{
 "cells": [
  {
   "cell_type": "markdown",
   "id": "8f5cd1f6-b2be-44dd-93dd-8b84f61c46df",
   "metadata": {},
   "source": [
    "### PART-1"
   ]
  },
  {
   "cell_type": "code",
   "execution_count": 32,
   "id": "6e802fee-f473-4b92-999c-0765d82c801c",
   "metadata": {},
   "outputs": [],
   "source": [
    "from datasets import load_dataset\n",
    "import random\n",
    "\n",
    "# 1. Load the full arXiv summarization dataset\n",
    "raw = load_dataset(\"ccdv/arxiv-summarization\", split=\"train\")\n",
    "\n",
    "# 2. Subsample 5,000 examples (shuffle first for randomness)\n",
    "raw = raw.shuffle(seed=42).select(range(5000))\n"
   ]
  },
  {
   "cell_type": "code",
   "execution_count": 33,
   "id": "61eaf67b-1342-4700-8c02-f8b7ed2429db",
   "metadata": {},
   "outputs": [],
   "source": [
    "# The dataset has fields 'article' and 'abstract'\n",
    "inputs  = raw[\"article\"]\n",
    "targets = raw[\"abstract\"]"
   ]
  },
  {
   "cell_type": "code",
   "execution_count": 34,
   "id": "9515a28b-6230-4198-bb4c-45e68c1469e3",
   "metadata": {},
   "outputs": [
    {
     "data": {
      "application/vnd.jupyter.widget-view+json": {
       "model_id": "559f8369a45e48bab78da4968b440a05",
       "version_major": 2,
       "version_minor": 0
      },
      "text/plain": [
       "Map:   0%|          | 0/5000 [00:00<?, ? examples/s]"
      ]
     },
     "metadata": {},
     "output_type": "display_data"
    },
    {
     "name": "stderr",
     "output_type": "stream",
     "text": [
      "You're using a LlamaTokenizerFast tokenizer. Please note that with a fast tokenizer, using the `__call__` method is faster than using a method to encode the text followed by a call to the `pad` method to get a padded encoding.\n"
     ]
    }
   ],
   "source": [
    "from transformers import AutoTokenizer\n",
    "\n",
    "# Replace with your TinyLlama tokenizer checkpoint\n",
    "tokenizer = AutoTokenizer.from_pretrained(\"TinyLlama/TinyLlama_v1.1\")\n",
    "tokenizer.pad_token = tokenizer.eos_token\n",
    "def preprocess_causal(batch):\n",
    "    inputs = []\n",
    "    for article, summary in zip(batch[\"article\"], batch[\"abstract\"]):\n",
    "        # concat with EOS tokens\n",
    "        text = article + tokenizer.eos_token + summary + tokenizer.eos_token\n",
    "        ids  = tokenizer(text, truncation=True, max_length=1024)[\"input_ids\"]\n",
    "        inputs.append(ids)\n",
    "    # pad to max length and create labels = input_ids\n",
    "    batch_out = tokenizer.pad(\n",
    "        {\"input_ids\": inputs},\n",
    "        padding=\"max_length\",\n",
    "        max_length=1024,\n",
    "        return_tensors=\"pt\",\n",
    "    )\n",
    "    batch_out[\"labels\"] = batch_out[\"input_ids\"].clone()\n",
    "    return batch_out\n",
    "\n",
    "tokenized = raw.map(\n",
    "    preprocess_causal,\n",
    "    batched=True,\n",
    "    remove_columns=raw.column_names,\n",
    ")"
   ]
  },
  {
   "cell_type": "code",
   "execution_count": 35,
   "id": "072ea191-e9f4-4688-a3cd-4fcebf6453a4",
   "metadata": {},
   "outputs": [
    {
     "name": "stdout",
     "output_type": "stream",
     "text": [
      "{'train': 4000, 'validation': 500, 'test': 500}\n"
     ]
    }
   ],
   "source": [
    "split = tokenized.train_test_split(test_size=0.20, seed=42)\n",
    "test_valid = split[\"test\"].train_test_split(test_size=0.50, seed=42)\n",
    "\n",
    "datasets = {\n",
    "    \"train\": split[\"train\"],\n",
    "    \"validation\": test_valid[\"train\"],\n",
    "    \"test\": test_valid[\"test\"],\n",
    "}\n",
    "\n",
    "print({k: len(v) for k, v in datasets.items()})\n",
    "# -> {'train': 4000, 'validation': 500, 'test': 500}\n"
   ]
  },
  {
   "cell_type": "markdown",
   "id": "e7dc1abd-e827-4a18-96c8-81ac2924c7da",
   "metadata": {},
   "source": [
    "### PART-2"
   ]
  },
  {
   "cell_type": "code",
   "execution_count": 2,
   "id": "d3850ed0-b33a-4814-a91c-bf9c0c4e6936",
   "metadata": {},
   "outputs": [
    {
     "name": "stdout",
     "output_type": "stream",
     "text": [
      "{'train': 4000, 'validation': 500, 'test': 500}\n"
     ]
    }
   ],
   "source": [
    "# Install dependencies if needed\n",
    "# pip install datasets transformers\n",
    "\n",
    "from datasets import load_dataset\n",
    "from transformers import PegasusTokenizer\n",
    "\n",
    "# 1. Load & subsample 5 000 examples\n",
    "raw = load_dataset(\"ccdv/arxiv-summarization\", split=\"train\")\n",
    "raw = raw.shuffle(seed=42).select(range(5000))\n",
    "\n",
    "# 2. Load Pegasus‐XSum tokenizer and set special tokens\n",
    "tokenizer = PegasusTokenizer.from_pretrained(\"google/pegasus-xsum\")\n",
    "# By default PegasusTokenizer.pad_token == '<pad>' and eos_token == '</s>'\n",
    "# If you want to pad with eos instead of a separate pad symbol:\n",
    "tokenizer.pad_token = tokenizer.eos_token\n",
    "tokenizer.pad_token_id = tokenizer.eos_token_id\n",
    "\n",
    "# 3. Define max lengths\n",
    "max_input_length  = 512   # Pegasus‐XSum max supported input\n",
    "max_target_length = 256\n",
    "\n",
    "# 4. Tokenization function\n",
    "def tokenize_fn(batch):\n",
    "    # Encode articles\n",
    "    enc = tokenizer(\n",
    "        batch[\"article\"],\n",
    "        truncation=True,\n",
    "        padding=\"max_length\",\n",
    "        max_length=max_input_length,\n",
    "    )\n",
    "    # Encode abstracts as labels\n",
    "    dec = tokenizer(\n",
    "        batch[\"abstract\"],\n",
    "        truncation=True,\n",
    "        padding=\"max_length\",\n",
    "        max_length=max_target_length,\n",
    "    )\n",
    "    return {\n",
    "        \"input_ids\": enc[\"input_ids\"],\n",
    "        \"attention_mask\": enc[\"attention_mask\"],\n",
    "        \"labels\": dec[\"input_ids\"],\n",
    "    }\n",
    "\n",
    "# 5. Apply tokenization and remove original columns\n",
    "tokenized = raw.map(\n",
    "    tokenize_fn,\n",
    "    batched=True,\n",
    "    remove_columns=raw.column_names,\n",
    ")\n",
    "\n",
    "# 6. Split into Train/Validation/Test (80/10/10)\n",
    "split_1 = tokenized.train_test_split(test_size=0.20, seed=42)\n",
    "split_2 = split_1[\"test\"].train_test_split(test_size=0.50, seed=42)\n",
    "\n",
    "datasets = {\n",
    "    \"train\": split_1[\"train\"],         # 4 000 samples\n",
    "    \"validation\": split_2[\"train\"],    #   500 samples\n",
    "    \"test\": split_2[\"test\"],           #   500 samples\n",
    "}\n",
    "\n",
    "print({k: len(v) for k, v in datasets.items()})\n",
    "# -> {'train': 4000, 'validation': 500, 'test': 500}\n"
   ]
  },
  {
   "cell_type": "markdown",
   "id": "b34c8155-d8c5-4eb5-bf5d-dbc6ef050de9",
   "metadata": {},
   "source": [
    "### PART-3"
   ]
  },
  {
   "cell_type": "code",
   "execution_count": 2,
   "id": "03614c9a-4ec4-4e88-8f3e-9dff1254fd39",
   "metadata": {},
   "outputs": [
    {
     "name": "stderr",
     "output_type": "stream",
     "text": [
      "2025-05-15 15:34:57.762753: I tensorflow/core/util/port.cc:153] oneDNN custom operations are on. You may see slightly different numerical results due to floating-point round-off errors from different computation orders. To turn them off, set the environment variable `TF_ENABLE_ONEDNN_OPTS=0`.\n",
      "2025-05-15 15:34:57.770256: E external/local_xla/xla/stream_executor/cuda/cuda_fft.cc:467] Unable to register cuFFT factory: Attempting to register factory for plugin cuFFT when one has already been registered\n",
      "WARNING: All log messages before absl::InitializeLog() is called are written to STDERR\n",
      "E0000 00:00:1747337697.779148 1077159 cuda_dnn.cc:8579] Unable to register cuDNN factory: Attempting to register factory for plugin cuDNN when one has already been registered\n",
      "E0000 00:00:1747337697.781757 1077159 cuda_blas.cc:1407] Unable to register cuBLAS factory: Attempting to register factory for plugin cuBLAS when one has already been registered\n",
      "W0000 00:00:1747337697.788763 1077159 computation_placer.cc:177] computation placer already registered. Please check linkage and avoid linking the same target more than once.\n",
      "W0000 00:00:1747337697.788770 1077159 computation_placer.cc:177] computation placer already registered. Please check linkage and avoid linking the same target more than once.\n",
      "W0000 00:00:1747337697.788771 1077159 computation_placer.cc:177] computation placer already registered. Please check linkage and avoid linking the same target more than once.\n",
      "W0000 00:00:1747337697.788772 1077159 computation_placer.cc:177] computation placer already registered. Please check linkage and avoid linking the same target more than once.\n",
      "2025-05-15 15:34:57.791181: I tensorflow/core/platform/cpu_feature_guard.cc:210] This TensorFlow binary is optimized to use available CPU instructions in performance-critical operations.\n",
      "To enable the following instructions: AVX2 AVX_VNNI FMA, in other operations, rebuild TensorFlow with the appropriate compiler flags.\n",
      "Some weights of PegasusForConditionalGeneration were not initialized from the model checkpoint at google/pegasus-xsum and are newly initialized: ['model.decoder.embed_positions.weight', 'model.encoder.embed_positions.weight']\n",
      "You should probably TRAIN this model on a down-stream task to be able to use it for predictions and inference.\n",
      "/tmp/ipykernel_1077159/90749916.py:37: FutureWarning: `tokenizer` is deprecated and will be removed in version 5.0.0 for `Seq2SeqTrainer.__init__`. Use `processing_class` instead.\n",
      "  trainer = Seq2SeqTrainer(\n",
      "No label_names provided for model class `PeftModelForSeq2SeqLM`. Since `PeftModel` hides base models input arguments, if label_names is not given, label_names can't be set automatically within `Trainer`. Note that empty label_names list will be used instead.\n",
      "\u001b[34m\u001b[1mwandb\u001b[0m: \u001b[33mWARNING\u001b[0m The `run_name` is currently set to the same value as `TrainingArguments.output_dir`. If this was not intended, please specify a different run name by setting the `TrainingArguments.run_name` parameter.\n",
      "\u001b[34m\u001b[1mwandb\u001b[0m: Using wandb-core as the SDK backend. Please refer to https://wandb.me/wandb-core for more information.\n",
      "\u001b[34m\u001b[1mwandb\u001b[0m: Currently logged in as: \u001b[33mostrich-mt2\u001b[0m (\u001b[33mostrich-mt2-fast-nuces\u001b[0m). Use \u001b[1m`wandb login --relogin`\u001b[0m to force relogin\n"
     ]
    },
    {
     "data": {
      "text/html": [
       "Tracking run with wandb version 0.18.5"
      ],
      "text/plain": [
       "<IPython.core.display.HTML object>"
      ]
     },
     "metadata": {},
     "output_type": "display_data"
    },
    {
     "data": {
      "text/html": [
       "Run data is saved locally in <code>/home/taha/wandb/run-20250515_153503-onyzaikc</code>"
      ],
      "text/plain": [
       "<IPython.core.display.HTML object>"
      ]
     },
     "metadata": {},
     "output_type": "display_data"
    },
    {
     "data": {
      "text/html": [
       "Syncing run <strong><a href='https://wandb.ai/ostrich-mt2-fast-nuces/huggingface/runs/onyzaikc' target=\"_blank\">./lora-pegasus-xsum</a></strong> to <a href='https://wandb.ai/ostrich-mt2-fast-nuces/huggingface' target=\"_blank\">Weights & Biases</a> (<a href='https://wandb.me/run' target=\"_blank\">docs</a>)<br/>"
      ],
      "text/plain": [
       "<IPython.core.display.HTML object>"
      ]
     },
     "metadata": {},
     "output_type": "display_data"
    },
    {
     "data": {
      "text/html": [
       " View project at <a href='https://wandb.ai/ostrich-mt2-fast-nuces/huggingface' target=\"_blank\">https://wandb.ai/ostrich-mt2-fast-nuces/huggingface</a>"
      ],
      "text/plain": [
       "<IPython.core.display.HTML object>"
      ]
     },
     "metadata": {},
     "output_type": "display_data"
    },
    {
     "data": {
      "text/html": [
       " View run at <a href='https://wandb.ai/ostrich-mt2-fast-nuces/huggingface/runs/onyzaikc' target=\"_blank\">https://wandb.ai/ostrich-mt2-fast-nuces/huggingface/runs/onyzaikc</a>"
      ],
      "text/plain": [
       "<IPython.core.display.HTML object>"
      ]
     },
     "metadata": {},
     "output_type": "display_data"
    },
    {
     "data": {
      "text/html": [
       "\n",
       "    <div>\n",
       "      \n",
       "      <progress value='2000' max='2000' style='width:300px; height:20px; vertical-align: middle;'></progress>\n",
       "      [2000/2000 48:34, Epoch 4/4]\n",
       "    </div>\n",
       "    <table border=\"1\" class=\"dataframe\">\n",
       "  <thead>\n",
       " <tr style=\"text-align: left;\">\n",
       "      <th>Epoch</th>\n",
       "      <th>Training Loss</th>\n",
       "      <th>Validation Loss</th>\n",
       "    </tr>\n",
       "  </thead>\n",
       "  <tbody>\n",
       "    <tr>\n",
       "      <td>1</td>\n",
       "      <td>3.579700</td>\n",
       "      <td>2.768593</td>\n",
       "    </tr>\n",
       "    <tr>\n",
       "      <td>2</td>\n",
       "      <td>2.933300</td>\n",
       "      <td>2.575604</td>\n",
       "    </tr>\n",
       "    <tr>\n",
       "      <td>3</td>\n",
       "      <td>2.777700</td>\n",
       "      <td>2.544457</td>\n",
       "    </tr>\n",
       "    <tr>\n",
       "      <td>4</td>\n",
       "      <td>2.742800</td>\n",
       "      <td>2.536259</td>\n",
       "    </tr>\n",
       "  </tbody>\n",
       "</table><p>"
      ],
      "text/plain": [
       "<IPython.core.display.HTML object>"
      ]
     },
     "metadata": {},
     "output_type": "display_data"
    }
   ],
   "source": [
    "from transformers import (\n",
    "    AutoTokenizer, AutoModelForSeq2SeqLM,\n",
    "    Seq2SeqTrainer, Seq2SeqTrainingArguments,\n",
    "    DataCollatorForSeq2Seq\n",
    ")\n",
    "from peft import get_peft_model, LoraConfig, TaskType\n",
    "\n",
    "# Load\n",
    "tokenizer = AutoTokenizer.from_pretrained(\"google/pegasus-xsum\")\n",
    "model = AutoModelForSeq2SeqLM.from_pretrained(\"google/pegasus-xsum\", device_map=\"auto\")\n",
    "\n",
    "# LoRA\n",
    "peft_config = LoraConfig(task_type=TaskType.SEQ_2_SEQ_LM, r=8, lora_alpha=16,\n",
    "                         lora_dropout=0.1, target_modules=[\"q_proj\",\"v_proj\"])\n",
    "model = get_peft_model(model, peft_config)\n",
    "\n",
    "# Collator\n",
    "data_collator = DataCollatorForSeq2Seq(tokenizer, model=model, label_pad_token_id=-100)\n",
    "\n",
    "# Args\n",
    "training_args = Seq2SeqTrainingArguments(\n",
    "    output_dir=\"./lora-pegasus-xsum\",\n",
    "    per_device_train_batch_size=4, per_device_eval_batch_size=4,\n",
    "    gradient_accumulation_steps=2,\n",
    "    eval_strategy=\"epoch\", save_strategy=\"epoch\",\n",
    "    num_train_epochs=4,\n",
    "    fp16=False,            # ← disable half-precision\n",
    "    bf16=False,            # ← or try bf16 if supported\n",
    "    learning_rate=3e-5,    # smaller LR also helps stability\n",
    "    max_grad_norm=1.0,     # gradient clipping\n",
    "    warmup_steps=500,\n",
    "    predict_with_generate=True,\n",
    "    generation_max_length=256,\n",
    "    generation_num_beams=4,\n",
    ")\n",
    "# Trainer\n",
    "trainer = Seq2SeqTrainer(\n",
    "    model=model,\n",
    "    args=training_args,\n",
    "    train_dataset=datasets[\"train\"],\n",
    "    eval_dataset=datasets[\"validation\"],\n",
    "    tokenizer=tokenizer,\n",
    "    data_collator=data_collator,\n",
    ")\n",
    "trainer.train()\n",
    "\n",
    "\n",
    "trainer.save_model(\"./lora-pegasus-xsum\")\n"
   ]
  },
  {
   "cell_type": "code",
   "execution_count": 3,
   "id": "9a0a18c1-1dc6-41f3-8825-9de023041943",
   "metadata": {},
   "outputs": [
    {
     "name": "stderr",
     "output_type": "stream",
     "text": [
      "Some weights of PegasusForConditionalGeneration were not initialized from the model checkpoint at google/pegasus-xsum and are newly initialized: ['model.decoder.embed_positions.weight', 'model.encoder.embed_positions.weight']\n",
      "You should probably TRAIN this model on a down-stream task to be able to use it for predictions and inference.\n",
      "Some weights of PegasusForConditionalGeneration were not initialized from the model checkpoint at google/pegasus-xsum and are newly initialized: ['model.decoder.embed_positions.weight', 'model.encoder.embed_positions.weight']\n",
      "You should probably TRAIN this model on a down-stream task to be able to use it for predictions and inference.\n"
     ]
    }
   ],
   "source": [
    "from datasets import load_dataset\n",
    "from transformers import AutoTokenizer, AutoModelForSeq2SeqLM\n",
    "from peft import PeftModel\n",
    "\n",
    "# 1. Reload & split raw test set (to restore article/abstract)\n",
    "raw = (\n",
    "    load_dataset(\"ccdv/arxiv-summarization\", split=\"train\")\n",
    "    .shuffle(seed=42)\n",
    "    .select(range(5000))\n",
    ")\n",
    "split1 = raw.train_test_split(test_size=0.20, seed=42)\n",
    "split2 = split1[\"test\"].train_test_split(test_size=0.50, seed=42)\n",
    "raw_test = split2[\"test\"]  # has 'article' & 'abstract'\n",
    "\n",
    "# 2. Reattach text columns to your tokenized-only test split\n",
    "#    (assumes `datasets[\"test\"]` exists from your earlier tokenization)\n",
    "tokenized_test = (\n",
    "    datasets[\"test\"]\n",
    "    .add_column(\"article\", raw_test[\"article\"])\n",
    "    .add_column(\"abstract\", raw_test[\"abstract\"])\n",
    ")\n",
    "\n",
    "# 3. Load tokenizer\n",
    "tokenizer = AutoTokenizer.from_pretrained(\"google/pegasus-xsum\")\n",
    "\n",
    "# 4. Load two separate model instances:\n",
    "#    A. Base Pegasus\n",
    "base_model = AutoModelForSeq2SeqLM.from_pretrained(\n",
    "    \"google/pegasus-xsum\", device_map=\"auto\"\n",
    ")\n",
    "#    B. Fine-tuned (wraps a fresh base internally)\n",
    "ft_base_model = AutoModelForSeq2SeqLM.from_pretrained(\n",
    "    \"google/pegasus-xsum\", device_map=\"auto\"\n",
    ")\n",
    "finetuned_model = PeftModel.from_pretrained(\n",
    "    ft_base_model, \"./lora-pegasus-xsum\", device_map=\"auto\"\n",
    ")\n",
    "\n",
    "# 5. Summarization helper\n",
    "def generate_summaries(model, articles):\n",
    "    model.eval()\n",
    "    outs = []\n",
    "    for art in articles:\n",
    "        inputs = tokenizer(\n",
    "            art,\n",
    "            truncation=True,\n",
    "            padding=\"longest\",\n",
    "            max_length=512,\n",
    "            return_tensors=\"pt\"\n",
    "        ).to(model.device)\n",
    "        sum_ids = model.generate(\n",
    "            **inputs,\n",
    "            max_length=256,\n",
    "            num_beams=4,\n",
    "            early_stopping=True\n",
    "        )\n",
    "        outs.append(tokenizer.decode(sum_ids[0], skip_special_tokens=True))\n",
    "    return outs\n",
    "\n",
    "# 6. Select 10 samples and run inference\n",
    "articles      = tokenized_test[\"article\"][:10]\n",
    "ground_truths = tokenized_test[\"abstract\"][:10]\n",
    "\n",
    "base_summaries      = generate_summaries(base_model,      articles)\n",
    "finetuned_summaries = generate_summaries(finetuned_model, articles)\n"
   ]
  },
  {
   "cell_type": "code",
   "execution_count": 5,
   "id": "7b39311b-d764-481d-b096-268146426467",
   "metadata": {},
   "outputs": [
    {
     "name": "stdout",
     "output_type": "stream",
     "text": [
      "ARTICLE: the performance guarantee of local search and greedy algorithms for scheduling problems is well studied and understood . for most algorithms , matching upper and lower bounds on their approximation ra …\n",
      "BASE:      We study the robustness of local search and greedy algorithms for scheduling problems .\n",
      "FINE-TUNED: we study the performance guarantee of local search and greedy algorithms for scheduling problems in the framework of smoothed analysis , in which instances are subject to some degree of random noise . since pure nash equilibria can be seen as local optima , our results also imply a new bound on the smoothed price of anarchy , showing that known worst - case results are too pessimistic in the presence of noise . since pure nash equilibria can be seen as local optima , our results also imply a new bound on the smoothed price of anarchy , showing that known worst - case results are too pessimistic in the presence of noise .\n",
      "--------------------------------------------------------------------------------\n",
      "ARTICLE: the dynamics of an atomic wave packet in a periodic potential under the influence of a static force has been extensively analyzed using different physical approaches : in terms of wannier - stark reso …\n",
      "BASE:      In our group we have developed a new approach to the detection of falling atomic pulses in optical lattices .\n",
      "FINE-TUNED: we report the detection of the acceleration of gravity @xmath0 in the falling atomic cloud . the detection is performed by imaging the falling atomic cloud using absorption imaging techniques and the uncertainty on the @xmath0 determination did not exceed @xmath7 dominated by the imaging system . in both experiments the detection is performed by imaging the falling atomic cloud using absorption imaging techniques and the uncertainty on the @xmath0 determination did not exceed @xmath7 dominated by the imaging system . our experimental approach is based on the precise determination of the velocity distribution of atoms along the vertical axis using doppler - sensitive raman transitions .\n",
      "--------------------------------------------------------------------------------\n",
      "ARTICLE: transport in a two dimensional electron gas is affected by the spin - orbit coupling . \n",
      " the most common signature is the weak ( anti)localization . \n",
      " it is a small correction to the conductance due t …\n",
      "BASE:      The spin - orbit coupling of a two dimensional electron gas is affected by the presence or absence of a time reversal symmetry breaking magnetic field.\n",
      "FINE-TUNED: we study the dependence of the weak correction to the spin - orbit coupling dependence of the average conductance on spin - orbit coupling dependence of the magnetic field and spin - orbit coupling dependence of the average conductance on spin - orbit coupling dependence of the magnetic field .\n",
      "--------------------------------------------------------------------------------\n"
     ]
    }
   ],
   "source": [
    "for i in range(3):\n",
    "    print(\"ARTICLE:\", articles[i][:200], \"…\")\n",
    "    print(\"BASE:     \", base_summaries[i])\n",
    "    print(\"FINE-TUNED:\", finetuned_summaries[i])\n",
    "    print(\"-\" * 80)\n"
   ]
  },
  {
   "cell_type": "code",
   "execution_count": null,
   "id": "3fb017bf-a0fc-4430-89dc-04453bbce71a",
   "metadata": {},
   "outputs": [],
   "source": []
  },
  {
   "cell_type": "markdown",
   "id": "d11dc5bd-2c76-4d5f-b3bd-934f7c63aa78",
   "metadata": {},
   "source": [
    "### PART-4"
   ]
  },
  {
   "cell_type": "code",
   "execution_count": null,
   "id": "43e31069-af84-4fb3-b665-2afb1171eddd",
   "metadata": {},
   "outputs": [],
   "source": []
  },
  {
   "cell_type": "code",
   "execution_count": null,
   "id": "a472dbd8-ba3e-4f33-84eb-1b2bf8be390d",
   "metadata": {},
   "outputs": [],
   "source": []
  },
  {
   "cell_type": "markdown",
   "id": "9b8685e8-5ebe-4501-8c2f-57363f2daf3e",
   "metadata": {},
   "source": [
    "### PART-B"
   ]
  },
  {
   "cell_type": "code",
   "execution_count": null,
   "id": "28caab57-b634-4dfc-8dd3-f44a99140d01",
   "metadata": {},
   "outputs": [],
   "source": []
  },
  {
   "cell_type": "code",
   "execution_count": null,
   "id": "af5a19fa-c885-47e8-b80b-3a05b994ada7",
   "metadata": {},
   "outputs": [],
   "source": []
  },
  {
   "cell_type": "code",
   "execution_count": 37,
   "id": "0b62db19-ba1c-4054-9723-07ffa2b48606",
   "metadata": {},
   "outputs": [
    {
     "name": "stderr",
     "output_type": "stream",
     "text": [
      "Some weights of RobertaModel were not initialized from the model checkpoint at roberta-large and are newly initialized: ['pooler.dense.bias', 'pooler.dense.weight']\n",
      "You should probably TRAIN this model on a down-stream task to be able to use it for predictions and inference.\n"
     ]
    },
    {
     "data": {
      "image/png": "[encoded data removed]",
      "text/plain": [
       "<Figure size 576x288 with 1 Axes>"
      ]
     },
     "metadata": {
      "needs_background": "light"
     },
     "output_type": "display_data"
    }
   ],
   "source": [
    "# === Part 4: Evaluation ===\n",
    "\n",
    "import evaluate\n",
    "from nltk.translate.bleu_score import sentence_bleu, SmoothingFunction\n",
    "import pandas as pd\n",
    "import matplotlib.pyplot as plt\n",
    "\n",
    "# 1. Load metrics\n",
    "rouge_metric     = evaluate.load(\"rouge\")\n",
    "bertscore_metric = evaluate.load(\"bertscore\")\n",
    "cc = SmoothingFunction().method4\n",
    "\n",
    "# 2. Compute all four metrics for a given set of summaries\n",
    "def compute_all_metrics(hyps, refs):\n",
    "    # ROUGE\n",
    "    rouge_res = rouge_metric.compute(\n",
    "        predictions=hyps, references=refs, use_stemmer=True\n",
    "    )\n",
    "    avg_rouge1 = float(rouge_res[\"rouge1\"])\n",
    "    avg_rougeL = float(rouge_res[\"rougeL\"])\n",
    "\n",
    "    # BLEU via NLTK\n",
    "    bleu_scores = [\n",
    "        sentence_bleu([r.split()], h.split(), smoothing_function=cc)\n",
    "        for h, r in zip(hyps, refs)\n",
    "    ]\n",
    "    avg_bleu = sum(bleu_scores) / len(bleu_scores)\n",
    "\n",
    "    # BERTScore F1\n",
    "    bert_res = bertscore_metric.compute(\n",
    "        predictions=hyps,\n",
    "        references=refs,\n",
    "        lang=\"en\",\n",
    "        rescale_with_baseline=True\n",
    "    )\n",
    "    avg_bertscore = sum(bert_res[\"f1\"]) / len(bert_res[\"f1\"])\n",
    "\n",
    "    return {\n",
    "        \"ROUGE-1\":      avg_rouge1,\n",
    "        \"ROUGE-L\":      avg_rougeL,\n",
    "        \"BLEU\":         avg_bleu,\n",
    "        \"BERTScore F1\": avg_bertscore,\n",
    "    }\n",
    "\n",
    "# 3. Score both models\n",
    "base_scores = compute_all_metrics(base_summaries,      ground_truths)\n",
    "ft_scores   = compute_all_metrics(finetuned_summaries, ground_truths)\n",
    "\n",
    "# 4. Build DataFrame for plotting\n",
    "df = pd.DataFrame({\n",
    "    \"Metric\":       list(base_scores.keys()),\n",
    "    \"Base\":         list(base_scores.values()),\n",
    "    \"Fine-tuned\":   list(ft_scores.values()),\n",
    "})\n",
    "\n",
    "# 5. Plot side-by-side grouped bar chart\n",
    "x = range(len(df))\n",
    "plt.figure(figsize=(8, 4))\n",
    "plt.bar([i - 0.2 for i in x], df[\"Base\"],       width=0.4, label=\"Base\")\n",
    "plt.bar([i + 0.2 for i in x], df[\"Fine-tuned\"], width=0.4, label=\"Fine-tuned\")\n",
    "plt.xticks(x, df[\"Metric\"])\n",
    "plt.ylabel(\"Score\")\n",
    "plt.title(\"Base vs. Fine-tuned Pegasus-XSum Evaluation (10 Samples)\")\n",
    "plt.legend()\n",
    "plt.tight_layout()\n",
    "plt.show()\n"
   ]
  }
 ],
 "metadata": {
  "kernelspec": {
   "display_name": "Python 3 (ipykernel)",
   "language": "python",
   "name": "python3"
  },
  "language_info": {
   "codemirror_mode": {
    "name": "ipython",
    "version": 3
   },
   "file_extension": ".py",
   "mimetype": "text/x-python",
   "name": "python",
   "nbconvert_exporter": "python",
   "pygments_lexer": "ipython3",
   "version": "3.10.12"
  }
 },
 "nbformat": 4,
 "nbformat_minor": 5
}
